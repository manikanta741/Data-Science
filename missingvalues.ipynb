{
  "nbformat": 4,
  "nbformat_minor": 0,
  "metadata": {
    "colab": {
      "provenance": [],
      "authorship_tag": "ABX9TyMjcbYCLWnaybE4eFUCTrcb",
      "include_colab_link": true
    },
    "kernelspec": {
      "name": "python3",
      "display_name": "Python 3"
    },
    "language_info": {
      "name": "python"
    }
  },
  "cells": [
    {
      "cell_type": "markdown",
      "metadata": {
        "id": "view-in-github",
        "colab_type": "text"
      },
      "source": [
        "<a href=\"https://colab.research.google.com/github/manikanta741/Data-Science/blob/main/missingvalues.ipynb\" target=\"_parent\"><img src=\"https://colab.research.google.com/assets/colab-badge.svg\" alt=\"Open In Colab\"/></a>"
      ]
    },
    {
      "cell_type": "code",
      "execution_count": null,
      "metadata": {
        "id": "WZey0rLkRQ8M"
      },
      "outputs": [],
      "source": [
        "\"\"\"\n",
        "1. Steps in Data Analysis\n",
        "\n",
        "\n",
        "\n",
        "a) Data Collection\n",
        "Gathering raw data from various sources like databases, APIs, web scraping, or surveys.\n",
        "\n",
        "b) Data Cleaning\n",
        "Handling missing values\n",
        "Removing duplicates\n",
        "Fixing inconsistent data\n",
        "Detecting and correcting outliers\n",
        "\n",
        "c) Exploratory Data Analysis (EDA)\n",
        "Understanding data distribution using summary statistics\n",
        "Visualizing data through histograms, scatter plots, box plots, etc.\n",
        "Identifying patterns, correlations, and anomalies\n",
        "\n",
        "d) Data Transformation & Feature Engineering\n",
        "Normalization and standardization\n",
        "Encoding categorical variables\n",
        "Creating new meaningful features\n",
        "Dimensionality reduction (e.g., PCA)\n",
        "\n",
        "e) Data Modeling\n",
        "Applying statistical models or machine learning algorithms\n",
        "Training predictive models\n",
        "Evaluating model performance using metrics like RMSE, R², accuracy, etc.\"\"\""
      ]
    },
    {
      "cell_type": "code",
      "source": [
        "#missing values\n",
        "\n",
        "import pandas as pd\n",
        "data = {'Name': ['Alice', 'Bob', 'Charlie', None],\n",
        "        'Age': [25, None, 30, 22],\n",
        "        'Salary': [50000, 60000, None, 45000]}\n",
        "\n",
        "df = pd.DataFrame(data)\n",
        "print(df.isnull())\n",
        "print(df.isnull().sum())\n"
      ],
      "metadata": {
        "colab": {
          "base_uri": "https://localhost:8080/"
        },
        "id": "i7nKT9KqSpZ5",
        "outputId": "2d7fbdfc-f688-488a-f0d9-666bbc498e4c"
      },
      "execution_count": 1,
      "outputs": [
        {
          "output_type": "stream",
          "name": "stdout",
          "text": [
            "    Name    Age  Salary\n",
            "0  False  False   False\n",
            "1  False   True   False\n",
            "2  False  False    True\n",
            "3   True  False   False\n",
            "Name      1\n",
            "Age       1\n",
            "Salary    1\n",
            "dtype: int64\n"
          ]
        }
      ]
    },
    {
      "cell_type": "code",
      "source": [
        "# Techniques to Handle Missing Values\n",
        "#Removing Missing Values\n",
        "#If missing values are very few, dropping them might be an option.\n",
        "df.dropna(inplace=True)\n",
        "\n",
        "\n",
        "#To remove only columns with missing values:\n",
        "df.dropna(axis=1,inplace=True)"
      ],
      "metadata": {
        "id": "KrsBGoIzTQs_"
      },
      "execution_count": null,
      "outputs": []
    },
    {
      "cell_type": "code",
      "source": [
        "#Filling Missing Values (Imputation)\n",
        "#Instead of dropping missing values, we can fill them with meaningful replacements.\n",
        "\n",
        "#1. Fill with a Fixed Value\n",
        "df.fillna(0, inplace=True)  # Replaces all NaN with 0\n",
        "\n",
        "\n",
        "#2. Fill with Mean, Median, or Mode\n",
        "df['Age'].fillna(df['Age'].mean(), inplace=True)  # Replaces with mean\n",
        "df['Age'].fillna(df['Age'].median(), inplace=True)  # Replaces with median\n",
        "df['Age'].fillna(df['Age'].mode()[0], inplace=True)  # Replaces with mode\n",
        "\n",
        "#3. Forward Fill (Propagating Last Value)\n",
        "df.fillna(method='ffill', inplace=True)  # Forward fill\n",
        "\n",
        "\n",
        "#4. Backward Fill\n",
        "df.fillna(method='bfill', inplace=True)  # Backward fill\n",
        "\n",
        "\n"
      ],
      "metadata": {
        "id": "2kNWo0c3T8zn"
      },
      "execution_count": null,
      "outputs": []
    },
    {
      "cell_type": "code",
      "source": [
        "\"\"\"Using Predictive Models for Imputation\n",
        "Machine learning models can predict missing values based on existing data.\"\"\"\n",
        "\n",
        "#1. Using K-Nearest Neighbors (KNN) Imputation\n",
        "\n",
        "from sklearn.impute import KNNImputer\n",
        "\n",
        "imputer = KNNImputer(n_neighbors=3)\n",
        "df[['Age', 'Salary']] = imputer.fit_transform(df[['Age', 'Salary']])\n",
        "\n",
        "\n",
        "#2. Using Regression Imputation\n",
        "from sklearn.linear_model import LinearRegression\n",
        "\n",
        "# Selecting non-null values for training\n",
        "train_data = df.dropna(subset=['Salary'])\n",
        "X_train = train_data[['Age']]\n",
        "y_train = train_data['Salary']\n",
        "\n",
        "# Training a simple linear regression model\n",
        "model = LinearRegression()\n",
        "model.fit(X_train, y_train)\n",
        "\n",
        "# Predict missing salaries\n",
        "missing_data = df[df['Salary'].isnull()]\n",
        "df.loc[df['Salary'].isnull(), 'Salary'] = model.predict(missing_data[['Age']])\n",
        "👉 Use Case: When there’s a strong relationship between features.\n",
        "\n"
      ],
      "metadata": {
        "id": "EQkQ9FPfVFHE"
      },
      "execution_count": null,
      "outputs": []
    },
    {
      "cell_type": "code",
      "source": [
        "\"\"\"3. Choosing the Right Method\n",
        "Scenario\tRecommended Approach\n",
        "Few missing values:\tDrop rows or columns\n",
        "Missing at random:\tMean/Median/Mode imputation\n",
        "Time-series data\t:Forward/Backward fill\n",
        "Data has a pattern:\tPredictive imputation (KNN, regression)\"\"\""
      ],
      "metadata": {
        "id": "B7qz5lavVkYT"
      },
      "execution_count": null,
      "outputs": []
    }
  ]
}