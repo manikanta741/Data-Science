{
  "nbformat": 4,
  "nbformat_minor": 0,
  "metadata": {
    "colab": {
      "provenance": [],
      "authorship_tag": "ABX9TyMMP1Lu22zxbxHZHHTwZZwp",
      "include_colab_link": true
    },
    "kernelspec": {
      "name": "python3",
      "display_name": "Python 3"
    },
    "language_info": {
      "name": "python"
    }
  },
  "cells": [
    {
      "cell_type": "markdown",
      "metadata": {
        "id": "view-in-github",
        "colab_type": "text"
      },
      "source": [
        "<a href=\"https://colab.research.google.com/github/manikanta741/Data-Science/blob/main/House%20price%20prdeiction.ipynb\" target=\"_parent\"><img src=\"https://colab.research.google.com/assets/colab-badge.svg\" alt=\"Open In Colab\"/></a>"
      ]
    },
    {
      "cell_type": "code",
      "source": [
        "import numpy as np\n",
        "import pandas as pd\n",
        "import matplotlib.pyplot as plt\n",
        "import seaborn as sns\n",
        "from sklearn.linear_model import LinearRegression\n",
        "from sklearn.metrics import mean_squared_error, r2_score\n",
        "from sklearn.model_selection import train_test_split\n",
        "from sklearn.preprocessing import StandardScaler\n",
        "\n",
        "\n",
        "df = pd.read_csv('/content/archive (20).zip')\n",
        "print(df.head())\n",
        "\n",
        "# Checking for missing and duplicate values\n",
        "print( df.isnull().sum())\n",
        "print(df.duplicated().sum())\n",
        "\n",
        "selected_features = ['RM','LSTAT','PTRATIO']\n",
        "x = df[selected_features]\n",
        "\n",
        "y = df[\"MEDV\"]\n",
        "\n",
        "# Split data into training and test sets\n",
        "x_train, x_test, y_train, y_test = train_test_split(x, y, test_size=0.2, random_state=42)\n",
        "print(\"Training data shape:\", x_train.shape, y_train.shape)\n",
        "print(\"Testing data shape:\", x_test.shape, y_test.shape)\n",
        "\n",
        "# Standardize the features\n",
        "scaler = StandardScaler()\n",
        "X_train_scaled = scaler.fit_transform(x_train)\n",
        "X_test_scaled = scaler.transform(x_test)\n",
        "\n",
        "# Linear Regression model\n",
        "model = LinearRegression()\n",
        "model.fit(X_train_scaled, y_train)\n",
        "\n",
        "# Predictions on test data\n",
        "y_pred = model.predict(X_test_scaled)\n",
        "\n",
        "# Evaluate model performance\n",
        "r2 = r2_score(y_test, y_pred)\n",
        "mse = mean_squared_error(y_test, y_pred)\n",
        "print(\"R² Score:\", r2)\n",
        "print(\"Mean Squared Error:\", mse)\n",
        "\n",
        "#prediction\n",
        "new_data = np.array([[6.575 ,  4.98  ,   15.3  ]])\n",
        "\n",
        "# Standardize again\n",
        "new_data_scaled = scaler.transform(new_data)\n",
        "\n",
        "# Predict and display\n",
        "predicted_price = model.predict(new_data_scaled)[0]\n",
        "print(f\"Predicted House Price: ${predicted_price:,.2f}\")"
      ],
      "metadata": {
        "colab": {
          "base_uri": "https://localhost:8080/",
          "height": 488
        },
        "id": "xPFNAe8bU__s",
        "outputId": "ad7f73be-25ae-4aa8-85df-7e9e7569a6f1"
      },
      "execution_count": null,
      "outputs": [
        {
          "output_type": "stream",
          "name": "stdout",
          "text": [
            "      RM  LSTAT  PTRATIO      MEDV\n",
            "0  6.575   4.98     15.3  504000.0\n",
            "1  6.421   9.14     17.8  453600.0\n",
            "2  7.185   4.03     17.8  728700.0\n",
            "3  6.998   2.94     18.7  701400.0\n",
            "4  7.147   5.33     18.7  760200.0\n",
            "RM         0\n",
            "LSTAT      0\n",
            "PTRATIO    0\n",
            "MEDV       0\n",
            "dtype: int64\n",
            "0\n",
            "Training data shape: (391, 3) (391,)\n",
            "Testing data shape: (98, 3) (98,)\n",
            "R² Score: 0.6910934003098512\n",
            "Mean Squared Error: 6789025559.265888\n"
          ]
        },
        {
          "output_type": "error",
          "ename": "TypeError",
          "evalue": "array() got an unexpected keyword argument 'columns'",
          "traceback": [
            "\u001b[0;31m---------------------------------------------------------------------------\u001b[0m",
            "\u001b[0;31mTypeError\u001b[0m                                 Traceback (most recent call last)",
            "\u001b[0;32m/tmp/ipython-input-20-3142028613.py\u001b[0m in \u001b[0;36m<cell line: 0>\u001b[0;34m()\u001b[0m\n\u001b[1;32m     45\u001b[0m \u001b[0;34m\u001b[0m\u001b[0m\n\u001b[1;32m     46\u001b[0m \u001b[0;31m#prediction\u001b[0m\u001b[0;34m\u001b[0m\u001b[0;34m\u001b[0m\u001b[0m\n\u001b[0;32m---> 47\u001b[0;31m \u001b[0mnew_data\u001b[0m \u001b[0;34m=\u001b[0m \u001b[0mnp\u001b[0m\u001b[0;34m.\u001b[0m\u001b[0marray\u001b[0m\u001b[0;34m(\u001b[0m\u001b[0;34m[\u001b[0m\u001b[0;34m[\u001b[0m\u001b[0;36m6.575\u001b[0m \u001b[0;34m,\u001b[0m  \u001b[0;36m4.98\u001b[0m  \u001b[0;34m,\u001b[0m   \u001b[0;36m15.3\u001b[0m  \u001b[0;34m]\u001b[0m\u001b[0;34m]\u001b[0m\u001b[0;34m,\u001b[0m \u001b[0mcolumns\u001b[0m\u001b[0;34m=\u001b[0m\u001b[0mx_train\u001b[0m\u001b[0;34m.\u001b[0m\u001b[0mcolumns\u001b[0m\u001b[0;34m[\u001b[0m\u001b[0;34m:\u001b[0m\u001b[0;36m3\u001b[0m\u001b[0;34m]\u001b[0m\u001b[0;34m)\u001b[0m\u001b[0;34m\u001b[0m\u001b[0;34m\u001b[0m\u001b[0m\n\u001b[0m\u001b[1;32m     48\u001b[0m \u001b[0;34m\u001b[0m\u001b[0m\n\u001b[1;32m     49\u001b[0m \u001b[0;31m# Standardize again\u001b[0m\u001b[0;34m\u001b[0m\u001b[0;34m\u001b[0m\u001b[0m\n",
            "\u001b[0;31mTypeError\u001b[0m: array() got an unexpected keyword argument 'columns'"
          ]
        }
      ]
    }
  ]
}