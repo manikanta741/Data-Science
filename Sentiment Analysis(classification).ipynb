{
  "nbformat": 4,
  "nbformat_minor": 0,
  "metadata": {
    "colab": {
      "provenance": [],
      "authorship_tag": "ABX9TyMbSdpbvpnH7gYOOSGPV8/r",
      "include_colab_link": true
    },
    "kernelspec": {
      "name": "python3",
      "display_name": "Python 3"
    },
    "language_info": {
      "name": "python"
    }
  },
  "cells": [
    {
      "cell_type": "markdown",
      "metadata": {
        "id": "view-in-github",
        "colab_type": "text"
      },
      "source": [
        "<a href=\"https://colab.research.google.com/github/manikanta741/Data-Science/blob/main/Sentiment%20Analysis(classification).ipynb\" target=\"_parent\"><img src=\"https://colab.research.google.com/assets/colab-badge.svg\" alt=\"Open In Colab\"/></a>"
      ]
    },
    {
      "cell_type": "code",
      "source": [
        "# 1. Import Libraries\n",
        "import pandas as pd\n",
        "from sklearn.model_selection import train_test_split\n",
        "from sklearn.feature_extraction.text import TfidfVectorizer\n",
        "from sklearn.naive_bayes import MultinomialNB\n",
        "from sklearn.metrics import accuracy_score, classification_report\n",
        "\n",
        "# 2. Load or Create Sample Dataset\n",
        "data = {\n",
        "    'text': [\n",
        "        \"I love this phone!\",\n",
        "        \"Worst experience ever\",\n",
        "        \"Totally satisfied with the service\",\n",
        "        \"Not happy with the product\",\n",
        "        \"Amazing performance and camera\",\n",
        "        \"Terrible customer support\",\n",
        "        \"I am very disappointed\",\n",
        "        \"Great value for money\",\n",
        "        \"Wouldn't recommend this to anyone\",\n",
        "        \"Best purchase I made\"\n",
        "    ],\n",
        "    'sentiment': [\n",
        "        'positive', 'negative', 'positive', 'negative', 'positive',\n",
        "        'negative', 'negative', 'positive', 'negative', 'positive'\n",
        "    ]\n",
        "}\n",
        "\n",
        "df = pd.DataFrame(data)\n",
        "\n",
        "# 3. Preprocess\n",
        "df['sentiment'] = df['sentiment'].map({'positive': 1, 'negative': 0})\n",
        "\n",
        "# 4. Split Data\n",
        "X = df['text']\n",
        "y = df['sentiment']\n",
        "X_train, X_test, y_train, y_test = train_test_split(X, y, test_size=0.2, random_state=42)\n",
        "\n",
        "# 5. Vectorize Text (TF-IDF)\n",
        "vectorizer = TfidfVectorizer(stop_words='english')\n",
        "X_train_vec = vectorizer.fit_transform(X_train)\n",
        "X_test_vec = vectorizer.transform(X_test)\n",
        "\n",
        "# 6. Train Model (Naive Bayes)\n",
        "model = MultinomialNB()\n",
        "model.fit(X_train_vec, y_train)\n",
        "\n",
        "# 7. Evaluate\n",
        "y_pred = model.predict(X_test_vec)\n",
        "print(\"Accuracy:\", accuracy_score(y_test, y_pred))\n",
        "print(\"Classification Report:\\n\", classification_report(y_test, y_pred))\n",
        "\n",
        "# 8. Predict Custom Sentences\n",
        "custom_texts = [\n",
        "    \"This is the best thing I've bought!\",\n",
        "    \"Absolutely hate the service.\"\n",
        "]\n",
        "custom_vec = vectorizer.transform(custom_texts)\n",
        "predictions = model.predict(custom_vec)\n",
        "\n",
        "# 9. Show Predictions\n",
        "for text, label in zip(custom_texts, predictions):\n",
        "    print(f\"\\nText: {text}\\nPrediction: {'Positive' if label else 'Negative'}\")\n"
      ],
      "metadata": {
        "colab": {
          "base_uri": "https://localhost:8080/"
        },
        "id": "16tbon_9r2FD",
        "outputId": "cbacbc40-616c-41f5-8d16-749a299cbee9"
      },
      "execution_count": 3,
      "outputs": [
        {
          "output_type": "stream",
          "name": "stdout",
          "text": [
            "Accuracy: 0.0\n",
            "Classification Report:\n",
            "               precision    recall  f1-score   support\n",
            "\n",
            "           0       0.00      0.00      0.00       2.0\n",
            "           1       0.00      0.00      0.00       0.0\n",
            "\n",
            "    accuracy                           0.00       2.0\n",
            "   macro avg       0.00      0.00      0.00       2.0\n",
            "weighted avg       0.00      0.00      0.00       2.0\n",
            "\n",
            "\n",
            "Text: This is the best thing I've bought!\n",
            "Prediction: Positive\n",
            "\n",
            "Text: Absolutely hate the service.\n",
            "Prediction: Positive\n"
          ]
        },
        {
          "output_type": "stream",
          "name": "stderr",
          "text": [
            "/usr/local/lib/python3.11/dist-packages/sklearn/metrics/_classification.py:1565: UndefinedMetricWarning: Precision is ill-defined and being set to 0.0 in labels with no predicted samples. Use `zero_division` parameter to control this behavior.\n",
            "  _warn_prf(average, modifier, f\"{metric.capitalize()} is\", len(result))\n",
            "/usr/local/lib/python3.11/dist-packages/sklearn/metrics/_classification.py:1565: UndefinedMetricWarning: Recall is ill-defined and being set to 0.0 in labels with no true samples. Use `zero_division` parameter to control this behavior.\n",
            "  _warn_prf(average, modifier, f\"{metric.capitalize()} is\", len(result))\n",
            "/usr/local/lib/python3.11/dist-packages/sklearn/metrics/_classification.py:1565: UndefinedMetricWarning: Precision is ill-defined and being set to 0.0 in labels with no predicted samples. Use `zero_division` parameter to control this behavior.\n",
            "  _warn_prf(average, modifier, f\"{metric.capitalize()} is\", len(result))\n",
            "/usr/local/lib/python3.11/dist-packages/sklearn/metrics/_classification.py:1565: UndefinedMetricWarning: Recall is ill-defined and being set to 0.0 in labels with no true samples. Use `zero_division` parameter to control this behavior.\n",
            "  _warn_prf(average, modifier, f\"{metric.capitalize()} is\", len(result))\n",
            "/usr/local/lib/python3.11/dist-packages/sklearn/metrics/_classification.py:1565: UndefinedMetricWarning: Precision is ill-defined and being set to 0.0 in labels with no predicted samples. Use `zero_division` parameter to control this behavior.\n",
            "  _warn_prf(average, modifier, f\"{metric.capitalize()} is\", len(result))\n",
            "/usr/local/lib/python3.11/dist-packages/sklearn/metrics/_classification.py:1565: UndefinedMetricWarning: Recall is ill-defined and being set to 0.0 in labels with no true samples. Use `zero_division` parameter to control this behavior.\n",
            "  _warn_prf(average, modifier, f\"{metric.capitalize()} is\", len(result))\n"
          ]
        }
      ]
    },
    {
      "cell_type": "code",
      "source": [
        "# 1. Import libraries\n",
        "import pandas as pd\n",
        "from sklearn.model_selection import train_test_split\n",
        "from sklearn.feature_extraction.text import TfidfVectorizer\n",
        "from sklearn.linear_model import LogisticRegression\n",
        "from sklearn.metrics import accuracy_score, classification_report\n",
        "\n",
        "# 2. Sample Restaurant Review Dataset\n",
        "data = {\n",
        "    'Review': [\n",
        "        \"The food was absolutely wonderful!\",\n",
        "        \"The waiter was very rude.\",\n",
        "        \"I had a great time, the ambiance is perfect.\",\n",
        "        \"The food was cold and tasteless.\",\n",
        "        \"Amazing service and delicious dishes!\",\n",
        "        \"Not coming here again. Worst experience.\",\n",
        "        \"Loved the pasta and the friendly staff.\",\n",
        "        \"Waited for 30 minutes, nobody came to take order.\",\n",
        "        \"It was a delightful evening. Highly recommend!\",\n",
        "        \"Horrible food and unclean table!\"\n",
        "    ],\n",
        "    'Sentiment': [\n",
        "        'Positive', 'Negative', 'Positive', 'Negative', 'Positive',\n",
        "        'Negative', 'Positive', 'Negative', 'Positive', 'Negative'\n",
        "    ]\n",
        "}\n",
        "\n",
        "df = pd.DataFrame(data)\n",
        "\n",
        "# 3. Preprocess: Convert sentiment to binary\n",
        "df['Sentiment'] = df['Sentiment'].map({'Positive': 1, 'Negative': 0})\n",
        "\n",
        "# 4. Split into training and testing data\n",
        "X = df['Review']\n",
        "y = df['Sentiment']\n",
        "X_train, X_test, y_train, y_test = train_test_split(X, y, test_size=0.2, random_state=42)\n",
        "\n",
        "# 5. Vectorize reviews using TF-IDF\n",
        "tfidf = TfidfVectorizer(stop_words='english')\n",
        "X_train_vec = tfidf.fit_transform(X_train)\n",
        "X_test_vec = tfidf.transform(X_test)\n",
        "\n",
        "# 6. Train the Logistic Regression model\n",
        "model = LogisticRegression()\n",
        "model.fit(X_train_vec, y_train)\n",
        "\n",
        "# 7. Evaluate the model\n",
        "y_pred = model.predict(X_test_vec)\n",
        "print(\"Accuracy:\", accuracy_score(y_test, y_pred))\n",
        "print(\"Classification Report:\\n\", classification_report(y_test, y_pred))\n",
        "\n",
        "# 8. Predict sentiment for custom reviews\n",
        "custom_reviews = [\n",
        "    \"The biryani was fantastic and perfectly spiced.\",\n",
        "    \"The staff ignored us for 20 minutes, horrible experience.\",\n",
        "    \"Loved the desserts and quick service.\",\n",
        "    \"The food was cold and tasteless\"\n",
        "\n",
        "]\n",
        "\n",
        "custom_vec = tfidf.transform(custom_reviews)\n",
        "predictions = model.predict(custom_vec)\n",
        "\n",
        "# 9. Display predictions\n",
        "print(\"\\n--- Predictions on Custom Reviews ---\")\n",
        "for review, label in zip(custom_reviews, predictions):\n",
        "    print(f\"\\nReview: {review}\\nPrediction: {'Positive' if label else 'Negative'}\")\n"
      ],
      "metadata": {
        "colab": {
          "base_uri": "https://localhost:8080/"
        },
        "id": "8IcdOLCjr-dJ",
        "outputId": "7533b9fd-8929-4fbd-c2cc-d336b9df5609"
      },
      "execution_count": 4,
      "outputs": [
        {
          "output_type": "stream",
          "name": "stdout",
          "text": [
            "Accuracy: 0.5\n",
            "Classification Report:\n",
            "               precision    recall  f1-score   support\n",
            "\n",
            "           0       0.00      0.00      0.00         1\n",
            "           1       0.50      1.00      0.67         1\n",
            "\n",
            "    accuracy                           0.50         2\n",
            "   macro avg       0.25      0.50      0.33         2\n",
            "weighted avg       0.25      0.50      0.33         2\n",
            "\n",
            "\n",
            "--- Predictions on Custom Reviews ---\n",
            "\n",
            "Review: The biryani was fantastic and perfectly spiced.\n",
            "Prediction: Positive\n",
            "\n",
            "Review: The staff ignored us for 20 minutes, horrible experience.\n",
            "Prediction: Negative\n",
            "\n",
            "Review: Loved the desserts and quick service.\n",
            "Prediction: Positive\n",
            "\n",
            "Review: The food was cold and tasteless\n",
            "Prediction: Negative\n"
          ]
        },
        {
          "output_type": "stream",
          "name": "stderr",
          "text": [
            "/usr/local/lib/python3.11/dist-packages/sklearn/metrics/_classification.py:1565: UndefinedMetricWarning: Precision is ill-defined and being set to 0.0 in labels with no predicted samples. Use `zero_division` parameter to control this behavior.\n",
            "  _warn_prf(average, modifier, f\"{metric.capitalize()} is\", len(result))\n",
            "/usr/local/lib/python3.11/dist-packages/sklearn/metrics/_classification.py:1565: UndefinedMetricWarning: Precision is ill-defined and being set to 0.0 in labels with no predicted samples. Use `zero_division` parameter to control this behavior.\n",
            "  _warn_prf(average, modifier, f\"{metric.capitalize()} is\", len(result))\n",
            "/usr/local/lib/python3.11/dist-packages/sklearn/metrics/_classification.py:1565: UndefinedMetricWarning: Precision is ill-defined and being set to 0.0 in labels with no predicted samples. Use `zero_division` parameter to control this behavior.\n",
            "  _warn_prf(average, modifier, f\"{metric.capitalize()} is\", len(result))\n"
          ]
        }
      ]
    },
    {
      "cell_type": "code",
      "source": [
        "import pandas as pd\n",
        "from textblob import TextBlob\n",
        "import matplotlib.pyplot as plt\n",
        "\n",
        "# Load data\n",
        "df = pd.read_csv(\"/content/restaraunts_tallin.csv\")\n",
        "\n",
        "# Define sentiment analysis function\n",
        "def get_sentiment(text):\n",
        "    blob = TextBlob(str(text))\n",
        "    polarity = blob.sentiment.polarity\n",
        "    if polarity > 0:\n",
        "        return \"Positive\"\n",
        "    elif polarity < 0:\n",
        "        return \"Negative\"\n",
        "    else:\n",
        "        return \"Neutral\"\n",
        "\n",
        "# Apply to multiple columns\n",
        "for col in ['Atmosphere', 'Food', 'Service']:\n",
        "    df[f'{col}_Sentiment'] = df[col].apply(get_sentiment)\n",
        "\n",
        "# Display sample results\n",
        "print(df[['Atmosphere', 'Atmosphere_Sentiment',\n",
        "          'Food', 'Food_Sentiment',\n",
        "          'Service', 'Service_Sentiment']].head())\n",
        "\n",
        "# Plot sentiment distribution for 'Food'\n",
        "df['Food_Sentiment'].value_counts().plot(kind='bar', color=['green', 'red', 'grey'])\n",
        "plt.title(\"Sentiment Distribution for Food\")\n",
        "plt.xlabel(\"Sentiment\")\n",
        "plt.ylabel(\"Number of Reviews\")\n",
        "plt.show()\n",
        "\n",
        "# ---------------------------------------------\n",
        "# Prediction on New Input (Manual Entry)\n",
        "# ---------------------------------------------\n",
        "# Sample new review input\n",
        "sample_input = {\n",
        "    \"Atmosphere\": \"The ambiance was warm and cozy, perfect for a date night.\",\n",
        "    \"Food\": \"The pasta was undercooked and lacked flavor.\",\n",
        "    \"Service\": \"The waiter was very attentive and polite.\"\n",
        "}\n",
        "\n",
        "# Predict sentiment for each input field\n",
        "print(\"\\n--- Prediction on New Input ---\")\n",
        "for key, value in sample_input.items():\n",
        "    sentiment = get_sentiment(value)\n",
        "    print(f\"{key}: \\\"{value}\\\" => Sentiment: {sentiment}\")\n"
      ],
      "metadata": {
        "colab": {
          "base_uri": "https://localhost:8080/",
          "height": 821
        },
        "id": "z80-3g-1rMzt",
        "outputId": "55062ede-c72b-4583-e6f2-1ff33e0d2da3"
      },
      "execution_count": 2,
      "outputs": [
        {
          "output_type": "stream",
          "name": "stdout",
          "text": [
            "   Atmosphere Atmosphere_Sentiment  Food Food_Sentiment  Service  \\\n",
            "0         4.4              Neutral   4.5        Neutral      4.5   \n",
            "1         4.6              Neutral   4.1        Neutral      4.3   \n",
            "2         4.4              Neutral   4.5        Neutral      4.1   \n",
            "3         4.5              Neutral   4.7        Neutral      4.6   \n",
            "4         0.0              Neutral   0.0        Neutral      0.0   \n",
            "\n",
            "  Service_Sentiment  \n",
            "0           Neutral  \n",
            "1           Neutral  \n",
            "2           Neutral  \n",
            "3           Neutral  \n",
            "4           Neutral  \n"
          ]
        },
        {
          "output_type": "display_data",
          "data": {
            "text/plain": [
              "<Figure size 640x480 with 1 Axes>"
            ],
            "image/png": "[encoded data removed]"
          },
          "metadata": {}
        },
        {
          "output_type": "stream",
          "name": "stdout",
          "text": [
            "\n",
            "--- Prediction on New Input ---\n",
            "Atmosphere: \"The ambiance was warm and cozy, perfect for a date night.\" => Sentiment: Positive\n",
            "Food: \"The pasta was undercooked and lacked flavor.\" => Sentiment: Neutral\n",
            "Service: \"The waiter was very attentive and polite.\" => Sentiment: Positive\n"
          ]
        }
      ]
    }
  ]
}