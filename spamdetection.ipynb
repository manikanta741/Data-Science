{
  "nbformat": 4,
  "nbformat_minor": 0,
  "metadata": {
    "colab": {
      "provenance": [],
      "authorship_tag": "ABX9TyMp5xTpGW7LffN9PC35jd9G",
      "include_colab_link": true
    },
    "kernelspec": {
      "name": "python3",
      "display_name": "Python 3"
    },
    "language_info": {
      "name": "python"
    }
  },
  "cells": [
    {
      "cell_type": "markdown",
      "metadata": {
        "id": "view-in-github",
        "colab_type": "text"
      },
      "source": [
        "<a href=\"https://colab.research.google.com/github/manikanta741/Data-Science/blob/main/spamdetection.ipynb\" target=\"_parent\"><img src=\"https://colab.research.google.com/assets/colab-badge.svg\" alt=\"Open In Colab\"/></a>"
      ]
    },
    {
      "cell_type": "code",
      "source": [
        "# 1. Import required libraries\n",
        "import pandas as pd\n",
        "from sklearn.model_selection import train_test_split\n",
        "from sklearn.feature_extraction.text import TfidfVectorizer\n",
        "from sklearn.naive_bayes import MultinomialNB\n",
        "from sklearn.metrics import accuracy_score, classification_report\n",
        "\n",
        "# 2. Load and prepare the data\n",
        "df = pd.read_csv(\"spamdata.csv\", encoding='latin-1')\n",
        "\n",
        "# 3. Clean and rename columns\n",
        "df.drop(['Unnamed: 2', 'Unnamed: 3', 'Unnamed: 4'], axis=1, inplace=True)\n",
        "df.columns = ['label', 'message']  # Rename them\n",
        "\n",
        "# 4. Encode labels (ham = 0, spam = 1)\n",
        "df['label'] = df['label'].map({'ham': 0, 'spam': 1})\n",
        "\n",
        "# 5. Drop any missing values\n",
        "df.dropna(inplace=True)\n",
        "\n",
        "# 6. Split data\n",
        "X = df['message']\n",
        "y = df['label']\n",
        "X_train, X_test, y_train, y_test = train_test_split(X, y, test_size=0.2, random_state=42)\n",
        "\n",
        "# 7. Vectorize text using TF-IDF\n",
        "tfidf = TfidfVectorizer(stop_words='english')\n",
        "X_train_vec = tfidf.fit_transform(X_train)\n",
        "X_test_vec = tfidf.transform(X_test)\n",
        "\n",
        "# 8. Train Multinomial Naive Bayes model\n",
        "model = MultinomialNB()\n",
        "model.fit(X_train_vec, y_train)\n",
        "\n",
        "# 9. Evaluate model\n",
        "y_pred = model.predict(X_test_vec)\n",
        "print(\"Accuracy:\", accuracy_score(y_test, y_pred))\n",
        "print(\"Classification Report:\\n\", classification_report(y_test, y_pred))\n",
        "\n",
        "# 10. Test on new message\n",
        "test_messages = [\n",
        "    \"Congratulations! You won a lottery. Claim now.\",\n",
        "    \"Hey, are we still meeting for lunch?\",\n",
        "    \"ok i am watching here\",\n",
        "    \"Hi, how are you?\"\n",
        "\n",
        "]\n",
        "\n",
        "test_vec = tfidf.transform(test_messages)\n",
        "predictions = model.predict(test_vec)\n",
        "\n",
        "# Display predictions\n",
        "for msg, label in zip(test_messages, predictions):\n",
        "    print(f\"\\nMessage: {msg}\\nPrediction: {'Spam' if label else 'Ham'}\")\n"
      ],
      "metadata": {
        "colab": {
          "base_uri": "https://localhost:8080/"
        },
        "id": "Z-CII1l-jtOc",
        "outputId": "629ee21f-feb7-48b7-9f45-ad1bcaea24be"
      },
      "execution_count": 37,
      "outputs": [
        {
          "output_type": "stream",
          "name": "stdout",
          "text": [
            "Accuracy: 0.9668161434977578\n",
            "Classification Report:\n",
            "               precision    recall  f1-score   support\n",
            "\n",
            "           0       0.96      1.00      0.98       965\n",
            "           1       1.00      0.75      0.86       150\n",
            "\n",
            "    accuracy                           0.97      1115\n",
            "   macro avg       0.98      0.88      0.92      1115\n",
            "weighted avg       0.97      0.97      0.96      1115\n",
            "\n",
            "\n",
            "Message: Congratulations! You won a lottery. Claim now.\n",
            "Prediction: Spam\n",
            "\n",
            "Message: Hey, are we still meeting for lunch?\n",
            "Prediction: Ham\n",
            "\n",
            "Message: ok i am watching here\n",
            "Prediction: Ham\n",
            "\n",
            "Message: Hi, how are you?\n",
            "Prediction: Ham\n"
          ]
        }
      ]
    },
    {
      "cell_type": "code",
      "source": [],
      "metadata": {
        "id": "J5qyWS01gsc1"
      },
      "execution_count": 10,
      "outputs": []
    }
  ]
}