{
  "nbformat": 4,
  "nbformat_minor": 0,
  "metadata": {
    "colab": {
      "provenance": [],
      "authorship_tag": "ABX9TyP3ok+x6muDK3EvkR+csa7W",
      "include_colab_link": true
    },
    "kernelspec": {
      "name": "python3",
      "display_name": "Python 3"
    },
    "language_info": {
      "name": "python"
    }
  },
  "cells": [
    {
      "cell_type": "markdown",
      "metadata": {
        "id": "view-in-github",
        "colab_type": "text"
      },
      "source": [
        "<a href=\"https://colab.research.google.com/github/manikanta741/Data-Science/blob/main/duplicates%20inconsistent%20data%20%20outliers.ipynb\" target=\"_parent\"><img src=\"https://colab.research.google.com/assets/colab-badge.svg\" alt=\"Open In Colab\"/></a>"
      ]
    },
    {
      "cell_type": "code",
      "execution_count": 1,
      "metadata": {
        "colab": {
          "base_uri": "https://localhost:8080/"
        },
        "id": "ueGUpozcWk-m",
        "outputId": "5353908b-4020-4842-8f88-ebb935078f2f"
      },
      "outputs": [
        {
          "output_type": "stream",
          "name": "stdout",
          "text": [
            "0    False\n",
            "1    False\n",
            "2    False\n",
            "3     True\n",
            "dtype: bool\n",
            "1\n"
          ]
        }
      ],
      "source": [
        "#detecting duplicates\n",
        "\n",
        "\n",
        "import pandas as pd\n",
        "# Creating a sample dataset with duplicates\n",
        "data = {'Name': ['Alice', 'Bob', 'Charlie', 'Alice'],\n",
        "        'Age': [25, 30, 30, 25],\n",
        "        'Salary': [50000, 60000, 60000, 50000]}\n",
        "\n",
        "df = pd.DataFrame(data)\n",
        "\n",
        "# Check for duplicates\n",
        "print(df.duplicated())  # Returns True for duplicate rows\n",
        "print(df.duplicated().sum())  # Counts duplicate rows\n"
      ]
    },
    {
      "cell_type": "code",
      "source": [
        "#remove duplicates rows\n",
        "df_no_duplicates = df.drop_duplicates()\n",
        "print(df_no_duplicates)\n"
      ],
      "metadata": {
        "colab": {
          "base_uri": "https://localhost:8080/"
        },
        "id": "pSQg_vBDWqZ1",
        "outputId": "59329a1a-424c-4049-b2c8-06abe03627cc"
      },
      "execution_count": 2,
      "outputs": [
        {
          "output_type": "stream",
          "name": "stdout",
          "text": [
            "      Name  Age  Salary\n",
            "0    Alice   25   50000\n",
            "1      Bob   30   60000\n",
            "2  Charlie   30   60000\n"
          ]
        }
      ]
    },
    {
      "cell_type": "code",
      "source": [
        "#Removing Duplicates Based on Specific Columns\n",
        "df.drop_duplicates(subset=['Age', 'Salary'], inplace=True)\n",
        "print(df)"
      ],
      "metadata": {
        "colab": {
          "base_uri": "https://localhost:8080/"
        },
        "id": "zH9Wf2MJXLNx",
        "outputId": "c2a32503-202e-4673-f0a9-30e796bc2142"
      },
      "execution_count": 4,
      "outputs": [
        {
          "output_type": "stream",
          "name": "stdout",
          "text": [
            "    Name  Age  Salary\n",
            "0  Alice   25   50000\n",
            "1    Bob   30   60000\n"
          ]
        }
      ]
    },
    {
      "cell_type": "code",
      "source": [
        "\"\"\"Check for duplicates using df.duplicated()\n",
        "Remove duplicates using df.drop_duplicates()\n",
        "Specify columns for duplicate checking using subset=['col1', 'col2']\"\"\"\n"
      ],
      "metadata": {
        "id": "T6S2Yb7TXwiI"
      },
      "execution_count": null,
      "outputs": []
    },
    {
      "cell_type": "code",
      "source": [],
      "metadata": {
        "id": "bxAGFMDeYWT1"
      },
      "execution_count": null,
      "outputs": []
    },
    {
      "cell_type": "code",
      "source": [
        "# Identifying Inconsistencies\n",
        "import pandas as pd\n",
        "\n",
        "# Sample dataset with inconsistencies\n",
        "data = {'Name': ['Alice', 'BOB', 'Charlie', 'alice '],  # Inconsistent capitalization & spaces\n",
        "        'Age': [25, 'Thirty', 30, 22],  # Mixed data types\n",
        "        'Salary': ['$50,000', '60000', '60,000', '45000']}  # Mixed formats\n",
        "\n",
        "df = pd.DataFrame(data)\n",
        "print(df)\n"
      ],
      "metadata": {
        "colab": {
          "base_uri": "https://localhost:8080/"
        },
        "id": "cwa7HY02YW04",
        "outputId": "74d1ed86-88d8-4717-b38e-c339b7cea1d1"
      },
      "execution_count": 5,
      "outputs": [
        {
          "output_type": "stream",
          "name": "stdout",
          "text": [
            "      Name     Age   Salary\n",
            "0    Alice      25  $50,000\n",
            "1      BOB  Thirty    60000\n",
            "2  Charlie      30   60,000\n",
            "3   alice       22    45000\n"
          ]
        }
      ]
    },
    {
      "cell_type": "code",
      "source": [
        "#Fixing Text Inconsistencies\n",
        "\n",
        "\n",
        "#a)Standardizing Case (Lower/Upper)\n",
        "df['Name'] = df['Name'].str.strip().str.title()  # Strips spaces & capitalizes first letters\n",
        "print(df['Name'])\n"
      ],
      "metadata": {
        "colab": {
          "base_uri": "https://localhost:8080/"
        },
        "id": "h60_p8iAYfuE",
        "outputId": "1c867349-cde1-480a-c9d1-d5b433ef2acf"
      },
      "execution_count": 6,
      "outputs": [
        {
          "output_type": "stream",
          "name": "stdout",
          "text": [
            "0      Alice\n",
            "1        Bob\n",
            "2    Charlie\n",
            "3      Alice\n",
            "Name: Name, dtype: object\n"
          ]
        }
      ]
    },
    {
      "cell_type": "code",
      "source": [
        "# Fixing Data Type Issues\n",
        "df['Age'] = pd.to_numeric(df['Age'])  # Converts 'Thirty' to NaN\n",
        "print(df['Age'])\n"
      ],
      "metadata": {
        "colab": {
          "base_uri": "https://localhost:8080/"
        },
        "id": "2phkIvWJYrxr",
        "outputId": "4f0b29e9-cc09-475a-a421-87c270087550"
      },
      "execution_count": 10,
      "outputs": [
        {
          "output_type": "stream",
          "name": "stdout",
          "text": [
            "0    25.0\n",
            "1     NaN\n",
            "2    30.0\n",
            "3    22.0\n",
            "Name: Age, dtype: float64\n"
          ]
        }
      ]
    },
    {
      "cell_type": "code",
      "source": [
        "# Handling Categorical Inconsistencies\n",
        "#Standardizing Categories\n",
        "\n",
        "\n",
        "df['Department'] = ['HR', 'hr', 'Finance', 'FINANCE']\n",
        "df['Department'] = df['Department'].str.upper()\n",
        "print(df['Department'])\n"
      ],
      "metadata": {
        "colab": {
          "base_uri": "https://localhost:8080/"
        },
        "id": "Hjs4UJObZHKg",
        "outputId": "6df45b68-10be-4b32-b5ef-438e8d39fdda"
      },
      "execution_count": 11,
      "outputs": [
        {
          "output_type": "stream",
          "name": "stdout",
          "text": [
            "0         HR\n",
            "1         HR\n",
            "2    FINANCE\n",
            "3    FINANCE\n",
            "Name: Department, dtype: object\n"
          ]
        }
      ]
    },
    {
      "cell_type": "code",
      "source": [
        "\"\"\"1. Detecting Outliers\n",
        "a) Using Summary Statistics (IQR Method)\"\"\"\n",
        "import pandas as pd\n",
        "import numpy as np\n",
        "\n",
        "# Creating a sample dataset with outliers\n",
        "data = {'Salary': [50000, 52000, 54000, 60000, 120000, 125000, 500000]}  # 500000 is an outlier\n",
        "\n",
        "df = pd.DataFrame(data)\n",
        "\n",
        "# Calculate Q1 (25th percentile) and Q3 (75th percentile)\n",
        "Q1 = df['Salary'].quantile(0.25)\n",
        "Q3 = df['Salary'].quantile(0.75)\n",
        "IQR = Q3 - Q1  # Interquartile range\n",
        "\n",
        "# Define lower and upper bounds\n",
        "lower_bound = Q1 - 1.5 * IQR\n",
        "upper_bound = Q3 + 1.5 * IQR\n",
        "\n",
        "# Find outliers\n",
        "outliers = df[(df['Salary'] < lower_bound) | (df['Salary'] > upper_bound)]\n",
        "print(\"Outliers detected:\\n\", outliers)\n"
      ],
      "metadata": {
        "colab": {
          "base_uri": "https://localhost:8080/"
        },
        "id": "6l9RnYucaRUY",
        "outputId": "a0e63ede-af5f-4936-89e2-52437fc90f8c"
      },
      "execution_count": 12,
      "outputs": [
        {
          "output_type": "stream",
          "name": "stdout",
          "text": [
            "Outliers detected:\n",
            "    Salary\n",
            "6  500000\n"
          ]
        }
      ]
    },
    {
      "cell_type": "code",
      "source": [
        "#b) Using Z-Score (Standard Deviation)\n",
        "from scipy import stats\n",
        "\n",
        "df['Z-Score'] = np.abs(stats.zscore(df['Salary']))\n",
        "outliers = df[df['Z-Score'] > 3]  # Z-score threshold is usually 3\n",
        "print(\"Outliers detected:\\n\", outliers)\n",
        "\"\"\"output:\n",
        "Outliers detected:\n",
        "    Salary   Z-Score\n",
        "6  500000  3.92\n",
        "\"\"\""
      ],
      "metadata": {
        "colab": {
          "base_uri": "https://localhost:8080/",
          "height": 104
        },
        "id": "Viua7K0caZYl",
        "outputId": "c2d90e18-a95d-41fe-90ca-40cf0dd7b959"
      },
      "execution_count": 15,
      "outputs": [
        {
          "output_type": "stream",
          "name": "stdout",
          "text": [
            "Outliers detected:\n",
            " Empty DataFrame\n",
            "Columns: [Salary, Z-Score]\n",
            "Index: []\n"
          ]
        },
        {
          "output_type": "execute_result",
          "data": {
            "text/plain": [
              "'op:\\nOutliers detected:\\n    Salary   Z-Score\\n6  500000  3.92\\n'"
            ],
            "application/vnd.google.colaboratory.intrinsic+json": {
              "type": "string"
            }
          },
          "metadata": {},
          "execution_count": 15
        }
      ]
    },
    {
      "cell_type": "code",
      "source": [
        "#c) Using Boxplot Visualization\n",
        "import matplotlib.pyplot as plt\n",
        "import seaborn as sns\n",
        "\n",
        "sns.boxplot(x=df['Salary'])\n",
        "plt.show()\n"
      ],
      "metadata": {
        "colab": {
          "base_uri": "https://localhost:8080/",
          "height": 449
        },
        "id": "wltPKwuCapvs",
        "outputId": "ce8fd875-60d6-4da3-a1a0-c953107554b9"
      },
      "execution_count": 16,
      "outputs": [
        {
          "output_type": "display_data",
          "data": {
            "text/plain": [
              "<Figure size 640x480 with 1 Axes>"
            ],
            "image/png": "[encoded data removed]"
          },
          "metadata": {}
        }
      ]
    },
    {
      "cell_type": "code",
      "source": [
        "\"\"\"\"\n",
        "2. Correcting Outliers\n",
        "a) Removing Outliers\"\"\"\n",
        "df_no_outliers = df[(df['Salary'] >= lower_bound) & (df['Salary'] <= upper_bound)]\n",
        "print(df_no_outliers)\n"
      ],
      "metadata": {
        "colab": {
          "base_uri": "https://localhost:8080/"
        },
        "id": "peFGY5Wba88u",
        "outputId": "3da28516-b8e1-40d0-929f-de76bec94abf"
      },
      "execution_count": 17,
      "outputs": [
        {
          "output_type": "stream",
          "name": "stdout",
          "text": [
            "   Salary   Z-Score\n",
            "0   50000  0.577678\n",
            "1   52000  0.564441\n",
            "2   54000  0.551205\n",
            "3   60000  0.511495\n",
            "4  120000  0.114401\n",
            "5  125000  0.081310\n"
          ]
        }
      ]
    },
    {
      "cell_type": "code",
      "source": [
        "#b)Transforming Data (Log Transformation)\n",
        "#For skewed data, applying a log transformation can reduce the impact of outliers.\n",
        "\n",
        "df['Log_Salary'] = np.log(df['Salary'])\n",
        "sns.boxplot(x=df['Log_Salary'])\n",
        "plt.show()\n"
      ],
      "metadata": {
        "colab": {
          "base_uri": "https://localhost:8080/",
          "height": 450
        },
        "id": "y-hDrEOkbQ7P",
        "outputId": "1b6deacc-5c34-433e-bdcd-f987121699ee"
      },
      "execution_count": 18,
      "outputs": [
        {
          "output_type": "display_data",
          "data": {
            "text/plain": [
              "<Figure size 640x480 with 1 Axes>"
            ],
            "image/png": "[encoded data removed]"
          },
          "metadata": {}
        }
      ]
    },
    {
      "cell_type": "code",
      "source": [
        "\"\"\"Detect outliers using IQR, Z-score, or Boxplots.\n",
        "Correct outliers by removing, capping, or transforming data.\n",
        "Choose a method based on context (errors vs. meaningful extremes).\"\"\""
      ],
      "metadata": {
        "id": "ItCnGF3Wbhzc"
      },
      "execution_count": null,
      "outputs": []
    }
  ]
}