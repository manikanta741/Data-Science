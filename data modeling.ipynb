{
  "nbformat": 4,
  "nbformat_minor": 0,
  "metadata": {
    "colab": {
      "provenance": [],
      "authorship_tag": "ABX9TyNEnD7tk/cG0L54Ja8WWknG",
      "include_colab_link": true
    },
    "kernelspec": {
      "name": "python3",
      "display_name": "Python 3"
    },
    "language_info": {
      "name": "python"
    }
  },
  "cells": [
    {
      "cell_type": "markdown",
      "metadata": {
        "id": "view-in-github",
        "colab_type": "text"
      },
      "source": [
        "<a href=\"https://colab.research.google.com/github/manikanta741/Data-Science/blob/main/data%20modeling.ipynb\" target=\"_parent\"><img src=\"https://colab.research.google.com/assets/colab-badge.svg\" alt=\"Open In Colab\"/></a>"
      ]
    },
    {
      "cell_type": "code",
      "execution_count": null,
      "metadata": {
        "id": "4EZxVNVLkXK-"
      },
      "outputs": [],
      "source": [
        "#Data Modeling:\n",
        "#Data modeling involves applying statistical models or machine learning algorithms to extract insights and make predictions.\n",
        "#Below is a step-by-step guide to building, training, and evaluating predictive models.\n",
        "\"\"\"Applying Statistical Models & Machine Learning Algorithms\n",
        "Different models can be used based on the type of problem:\n",
        "\n",
        "Problem Type\tExample Models\n",
        "Regression (Predicting continuous values)\tLinear Regression, Decision Trees, Random Forest, XGBoost\n",
        "Classification (Predicting categories)\tLogistic Regression, Random Forest, SVM, Neural Networks\n",
        "Clustering (Grouping similar data)\tK-Means, DBSCAN, Hierarchical Clustering\"\"\""
      ]
    },
    {
      "cell_type": "code",
      "source": [
        "#Linear Regression (For Continuous Predictions)\n",
        "#Used when the target variable is continuous (e.g., house prices, sales, temperatures).\n",
        "from sklearn.model_selection import train_test_split\n",
        "from sklearn.linear_model import LinearRegression\n",
        "\n",
        "# Sample dataset\n",
        "X = df[['Experience', 'Age', 'Education_Level']]\n",
        "y = df['Salary']\n",
        "\n",
        "# Split data into training & testing\n",
        "X_train, X_test, y_train, y_test = train_test_split(X, y, test_size=0.2, random_state=42)\n",
        "\n",
        "# Train model\n",
        "model = LinearRegression()\n",
        "model.fit(X_train, y_train)\n",
        "\n",
        "# Make predictions\n",
        "y_pred = model.predict(X_test)\n"
      ],
      "metadata": {
        "id": "9SA1SWfmko_m"
      },
      "execution_count": null,
      "outputs": []
    },
    {
      "cell_type": "code",
      "source": [
        "#Logistic Regression (For Classification Problems)\n",
        "#Used when target variable is categorical (e.g., spam detection, churn prediction).\n",
        "from sklearn.linear_model import LogisticRegression\n",
        "clf = LogisticRegression()\n",
        "clf.fit(X_train, y_train)\n",
        "y_pred = clf.predict(X_test)\n"
      ],
      "metadata": {
        "id": "8tlii_-BkwrL"
      },
      "execution_count": null,
      "outputs": []
    },
    {
      "cell_type": "code",
      "source": [
        "#decision tree\n",
        "from sklearn.tree import DecisionTreeClassifier\n",
        "from sklearn.model_selection import train_test_split\n",
        "from sklearn.metrics import accuracy_score\n",
        "\n",
        "# Sample dataset\n",
        "X = df[['Age', 'Salary']]\n",
        "y = df['Purchased']  # Binary classification (Yes/No)\n",
        "\n",
        "# Split data\n",
        "X_train, X_test, y_train, y_test = train_test_split(X, y, test_size=0.2, random_state=42)\n",
        "\n",
        "# Train Decision Tree Model\n",
        "clf = DecisionTreeClassifier(criterion='gini', max_depth=3, random_state=42)\n",
        "clf.fit(X_train, y_train)\n",
        "\n",
        "# Make predictions\n",
        "y_pred = clf.predict(X_test)\n",
        "\n",
        "# Evaluate model\n",
        "accuracy = accuracy_score(y_test, y_pred)\n",
        "print(f\"Accuracy: {accuracy}\")\n"
      ],
      "metadata": {
        "id": "h89OE_KrnfkA"
      },
      "execution_count": null,
      "outputs": []
    },
    {
      "cell_type": "code",
      "source": [
        "#Support Vector Regression (SVR) 🔵\n",
        "Uses Support Vector Machines (SVM) for regression.\n",
        "✅ Works well for high-dimensional data.\n",
        "\n",
        "from sklearn.svm import SVR\n",
        "svr = SVR(kernel='rbf')\n",
        "svr.fit(X_train, y_train)\n",
        "y_pred = svr.predict(X_test)\n",
        "\n",
        "\n"
      ],
      "metadata": {
        "id": "NPk_Oh7Zn3as"
      },
      "execution_count": null,
      "outputs": []
    },
    {
      "cell_type": "code",
      "source": [
        "#Random Forest (For Both Regression & Classification)\n",
        "#A powerful ensemble model that reduces overfitting.\n",
        "\n",
        "\n",
        "from sklearn.ensemble import RandomForestRegressor\n",
        "\n",
        "rf = RandomForestRegressor(n_estimators=100, random_state=42)\n",
        "rf.fit(X_train, y_train)\n",
        "y_pred = rf.predict(X_test)"
      ],
      "metadata": {
        "id": "6MBv7Drok6cC"
      },
      "execution_count": null,
      "outputs": []
    },
    {
      "cell_type": "code",
      "source": [
        "\"\"\"Training Predictive Models\"\"\"\n",
        "Key steps in training models:\n",
        "\n",
        "1.Split the dataset (Training: 80%, Testing: 20%).\n",
        "2.Fit the model using the training data.\n",
        "3.Tune hyperparameters (GridSearchCV, RandomizedSearchCV).\n",
        "4.Make predictions on new data."
      ],
      "metadata": {
        "id": "B1sYubGtk92j"
      },
      "execution_count": null,
      "outputs": []
    },
    {
      "cell_type": "code",
      "source": [
        "\"\"\"Evaluating Model Performance\n",
        "Once the model is trained, we need to check how well it performs.\n",
        "\n",
        "For Regression Models:\n",
        "Metric\tDescription\n",
        "RMSE (Root Mean Squared Error)\tMeasures average prediction error. Lower is better.\n",
        "R² (R-squared)\tMeasures how well features explain the target variable. Closer to 1 is better.\"\"\"\n",
        "\n",
        "from sklearn.metrics import mean_squared_error, r2_score\n",
        "import numpy as np\n",
        "\n",
        "rmse = np.sqrt(mean_squared_error(y_test, y_pred))\n",
        "r2 = r2_score(y_test, y_pred)\n",
        "\n",
        "print(f\"RMSE: {rmse}\")\n",
        "print(f\"R² Score: {r2}\")\n"
      ],
      "metadata": {
        "id": "_MfnRH_wlM5r"
      },
      "execution_count": null,
      "outputs": []
    },
    {
      "cell_type": "code",
      "source": [
        "#evaluation metrics for classsification\n",
        "#accuracy\n",
        "from sklearn.metrics import accuracy_score, classification_report, confusion_matrix\n",
        "\n",
        "accuracy = accuracy_score(y_test, y_pred)\n",
        "print(f\"Accuracy: {accuracy}\")\n",
        "print(classification_report(y_test, y_pred))\n",
        "print(confusion_matrix(y_test, y_pred))\n",
        "\n",
        "\n",
        "#Confusion Matrix\n",
        "from sklearn.metrics import confusion_matrix\n",
        "cm = confusion_matrix(y_test, y_pred)\n",
        "print(cm)\n",
        "\n",
        "\n",
        "#precision\n",
        "from sklearn.metrics import precision_score\n",
        "precision = precision_score(y_test, y_pred)\n",
        "print(f\"Precision: {precision}\")\n",
        "\n",
        "\n",
        "\n",
        "#Recall (Sensitivity or True Positive Rate)\n",
        "from sklearn.metrics import recall_score\n",
        "recall = recall_score(y_test, y_pred)\n",
        "print(f\"Recall: {recall}\")\n",
        "\n",
        "\n",
        "#f1-score\n",
        "from sklearn.metrics import f1_score\n",
        "f1 = f1_score(y_test, y_pred)\n",
        "print(f\"F1-Score: {f1}\")\n",
        "\n",
        "#roc\n",
        "from sklearn.metrics import roc_auc_score\n",
        "auc = roc_auc_score(y_test, y_pred_proba)  # y_pred_proba is probability predictions\\\n",
        "print(f\"AUC Score: {auc}\")\n",
        "\n",
        "#Classification Report (All Metrics Together)\n",
        "from sklearn.metrics import classification_report\n",
        "print(classification_report(y_test, y_pred))\n"
      ],
      "metadata": {
        "id": "Ycm5VZdrlv0O"
      },
      "execution_count": null,
      "outputs": []
    }
  ]
}