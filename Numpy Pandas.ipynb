{
  "nbformat": 4,
  "nbformat_minor": 0,
  "metadata": {
    "colab": {
      "provenance": [],
      "authorship_tag": "ABX9TyON2kKp9PmJX70O2CkiACoc",
      "include_colab_link": true
    },
    "kernelspec": {
      "name": "python3",
      "display_name": "Python 3"
    },
    "language_info": {
      "name": "python"
    }
  },
  "cells": [
    {
      "cell_type": "markdown",
      "metadata": {
        "id": "view-in-github",
        "colab_type": "text"
      },
      "source": [
        "<a href=\"https://colab.research.google.com/github/manikanta741/Data-Science/blob/main/Numpy%20Pandas.ipynb\" target=\"_parent\"><img src=\"https://colab.research.google.com/assets/colab-badge.svg\" alt=\"Open In Colab\"/></a>"
      ]
    },
    {
      "cell_type": "code",
      "execution_count": 2,
      "metadata": {
        "id": "zBQhqs6ViKbP"
      },
      "outputs": [],
      "source": [
        "#pandas\n",
        "\n",
        "\"\"\"Key Features of Pandas\n",
        "\n",
        " DataFrame & Series – Efficient tabular data structures\n",
        " Data Cleaning – Handling missing values, duplicates, etc.\n",
        " Data Transformation – Filtering, sorting, merging, and aggregation\n",
        " Statistical Analysis – Summary statistics, groupby, pivot tables\n",
        " Integration – Works well with NumPy, Matplotlib, Scikit-learn, and databases\"\"\"\n",
        "\n"
      ]
    },
    {
      "cell_type": "code",
      "source": [
        "#series\n",
        "import pandas as pd\n",
        "data = [10, 20, 30, 40]\n",
        "s = pd.Series(data)\n",
        "print(s)\n"
      ],
      "metadata": {
        "colab": {
          "base_uri": "https://localhost:8080/"
        },
        "id": "_gfN3r8ai9WY",
        "outputId": "dc73f965-18ce-4a0d-aa1b-ea69cc9cee45"
      },
      "execution_count": 4,
      "outputs": [
        {
          "output_type": "stream",
          "name": "stdout",
          "text": [
            "0    10\n",
            "1    20\n",
            "2    30\n",
            "3    40\n",
            "dtype: int64\n"
          ]
        }
      ]
    },
    {
      "cell_type": "code",
      "source": [
        "#dataframe\n",
        "data = {'Name': ['Alice', 'Bob', 'Charlie'], 'Age': [25, 30, 35]}\n",
        "df = pd.DataFrame(data)\n",
        "print(df)\n"
      ],
      "metadata": {
        "id": "xW-_bSepjEuK"
      },
      "execution_count": null,
      "outputs": []
    },
    {
      "cell_type": "code",
      "source": [
        "#reading data\n",
        "df = pd.read_csv(\"data.csv\")  # Read CSV\n",
        "df = pd.read_excel(\"data.xlsx\")  # Read Excel\n",
        "df = pd.read_sql(\"SELECT * FROM table\", connection)  # Read SQL\n"
      ],
      "metadata": {
        "id": "DZbJNIaijOEf"
      },
      "execution_count": null,
      "outputs": []
    },
    {
      "cell_type": "code",
      "source": [
        "df.head()    # First 5 rows\n",
        "df.tail()    # Last 5 rows\n",
        "df.info()    # Summary of DataFrame\n",
        "df.describe()  # Summary statistics\n"
      ],
      "metadata": {
        "id": "gmTbKfUyjXHI"
      },
      "execution_count": null,
      "outputs": []
    },
    {
      "cell_type": "code",
      "source": [
        "#filtering\n",
        "df[df[\"Age\"] > 30]  # Filter rows\n",
        "df.loc[0, \"Name\"]  # Access specific row & column\n",
        "df.iloc[1:3, 0:2]  # Access using index positions\n"
      ],
      "metadata": {
        "id": "5NssUjaAjYEx"
      },
      "execution_count": null,
      "outputs": []
    },
    {
      "cell_type": "code",
      "source": [
        "#sorting and aggregation\n",
        "df.sort_values(\"Age\", ascending=False)  # Sort by Age\n",
        "df.groupby(\"Category\").mean()  # Group and compute mean\n"
      ],
      "metadata": {
        "id": "6KSN8myLjiGT"
      },
      "execution_count": null,
      "outputs": []
    },
    {
      "cell_type": "code",
      "source": [
        "#merging\n",
        "df1.merge(df2, on=\"ID\", how=\"inner\")  # SQL-like joins\n"
      ],
      "metadata": {
        "id": "JLHTeFmXirfF"
      },
      "execution_count": 7,
      "outputs": []
    },
    {
      "cell_type": "code",
      "source": [],
      "metadata": {
        "id": "yjpIGD1MkPQo"
      },
      "execution_count": null,
      "outputs": []
    },
    {
      "cell_type": "code",
      "source": [
        "#numpy\n",
        "#1-d array\n",
        "import pandas as pd\n",
        "import numpy as np\n",
        "arr = np.array([1, 2, 3, 4, 5])\n",
        "print(arr)\n"
      ],
      "metadata": {
        "colab": {
          "base_uri": "https://localhost:8080/"
        },
        "id": "s_zpkA2qkQ6b",
        "outputId": "5a4a5c6e-7022-4bb0-c031-dfd58555f4db"
      },
      "execution_count": 9,
      "outputs": [
        {
          "output_type": "stream",
          "name": "stdout",
          "text": [
            "[1 2 3 4 5]\n"
          ]
        }
      ]
    },
    {
      "cell_type": "code",
      "source": [
        "#2-d array\n",
        "arr2d = np.array([[1, 2, 3], [4, 5, 6]])\n",
        "print(arr2d)\n"
      ],
      "metadata": {
        "colab": {
          "base_uri": "https://localhost:8080/"
        },
        "id": "BVYjveT-lB64",
        "outputId": "2dc22172-f145-41b6-ecd1-68c2f9215620"
      },
      "execution_count": 10,
      "outputs": [
        {
          "output_type": "stream",
          "name": "stdout",
          "text": [
            "[[1 2 3]\n",
            " [4 5 6]]\n"
          ]
        }
      ]
    },
    {
      "cell_type": "code",
      "source": [
        "arr3d = np.array([[[1, 2], [3, 4]], [[5, 6], [7, 8]]])\n",
        "print(arr3d)\n"
      ],
      "metadata": {
        "colab": {
          "base_uri": "https://localhost:8080/"
        },
        "id": "lIkfc2LFlFXz",
        "outputId": "cf08d8ce-f4cc-4867-86c6-447f0f811540"
      },
      "execution_count": 11,
      "outputs": [
        {
          "output_type": "stream",
          "name": "stdout",
          "text": [
            "[[[1 2]\n",
            "  [3 4]]\n",
            "\n",
            " [[5 6]\n",
            "  [7 8]]]\n"
          ]
        }
      ]
    },
    {
      "cell_type": "code",
      "source": [
        "print(np.zeros((2, 3)))   # 2x3 array of zeros\n"
      ],
      "metadata": {
        "colab": {
          "base_uri": "https://localhost:8080/"
        },
        "id": "Vci1c3iXlIaZ",
        "outputId": "4c0adb45-53f4-41bb-a2bd-1f2c4db42982"
      },
      "execution_count": 12,
      "outputs": [
        {
          "output_type": "stream",
          "name": "stdout",
          "text": [
            "[[0. 0. 0.]\n",
            " [0. 0. 0.]]\n"
          ]
        }
      ]
    },
    {
      "cell_type": "code",
      "source": [
        "print(np.ones((3, 3)))   # 3x3 array of ones\n",
        "\n"
      ],
      "metadata": {
        "colab": {
          "base_uri": "https://localhost:8080/"
        },
        "id": "BXY8ciHPlSS4",
        "outputId": "a478d0bc-4efb-4f53-a25b-2dd0838a4126"
      },
      "execution_count": 13,
      "outputs": [
        {
          "output_type": "stream",
          "name": "stdout",
          "text": [
            "[[1. 1. 1.]\n",
            " [1. 1. 1.]\n",
            " [1. 1. 1.]]\n"
          ]
        }
      ]
    },
    {
      "cell_type": "code",
      "source": [
        "np.full((2, 2), 7) # 2x2 array filled with 7\n"
      ],
      "metadata": {
        "colab": {
          "base_uri": "https://localhost:8080/"
        },
        "id": "otLh2yS8lU5D",
        "outputId": "7eebd15c-981c-42ca-948d-f4cef2e63313"
      },
      "execution_count": 14,
      "outputs": [
        {
          "output_type": "execute_result",
          "data": {
            "text/plain": [
              "array([[7, 7],\n",
              "       [7, 7]])"
            ]
          },
          "metadata": {},
          "execution_count": 14
        }
      ]
    },
    {
      "cell_type": "code",
      "source": [
        "np.eye(3)          # Identity matrix\n"
      ],
      "metadata": {
        "colab": {
          "base_uri": "https://localhost:8080/"
        },
        "id": "E2AuhzRzlc3_",
        "outputId": "c539810a-1a65-4b43-d4a7-3e82584d3106"
      },
      "execution_count": 16,
      "outputs": [
        {
          "output_type": "execute_result",
          "data": {
            "text/plain": [
              "array([[1., 0., 0.],\n",
              "       [0., 1., 0.],\n",
              "       [0., 0., 1.]])"
            ]
          },
          "metadata": {},
          "execution_count": 16
        }
      ]
    },
    {
      "cell_type": "code",
      "source": [
        "np.random.rand(3, 3) # Random values between 0 and 1"
      ],
      "metadata": {
        "colab": {
          "base_uri": "https://localhost:8080/"
        },
        "id": "mGj0QzBLlf_F",
        "outputId": "39b25991-3b7b-4ac5-d68e-c8696e1dd87b"
      },
      "execution_count": 19,
      "outputs": [
        {
          "output_type": "execute_result",
          "data": {
            "text/plain": [
              "array([[0.05316992, 0.95428158, 0.41220352],\n",
              "       [0.96419991, 0.29833481, 0.26044564],\n",
              "       [0.38974394, 0.1749979 , 0.52520242]])"
            ]
          },
          "metadata": {},
          "execution_count": 19
        }
      ]
    },
    {
      "cell_type": "code",
      "source": [
        "a = np.array([1, 2, 3])\n",
        "b = np.array([4, 5, 6])\n",
        "\n",
        "print(a + b)  # Element-wise addition\n",
        "print(a * b)  # Element-wise multiplication\n",
        "print(a ** 2) # Element-wise power\n"
      ],
      "metadata": {
        "colab": {
          "base_uri": "https://localhost:8080/"
        },
        "id": "0R8EoQ7ulnqF",
        "outputId": "3db2b9c6-c897-4592-c8fa-fda1c60d3665"
      },
      "execution_count": 20,
      "outputs": [
        {
          "output_type": "stream",
          "name": "stdout",
          "text": [
            "[5 7 9]\n",
            "[ 4 10 18]\n",
            "[1 4 9]\n"
          ]
        }
      ]
    },
    {
      "cell_type": "code",
      "source": [
        "A = np.array([[1, 2], [3, 4]])\n",
        "B = np.array([[5, 6], [7, 8]])\n",
        "\n",
        "print(A @ B)  # Matrix multiplication\n",
        "print(np.dot(A, B))  # Alternative for dot product\n",
        "print(np.linalg.inv(A))  # Inverse of a matrix\n"
      ],
      "metadata": {
        "colab": {
          "base_uri": "https://localhost:8080/"
        },
        "id": "UfdiNSAblwcP",
        "outputId": "954e204d-a026-4e6d-e630-7c77c95204ee"
      },
      "execution_count": 21,
      "outputs": [
        {
          "output_type": "stream",
          "name": "stdout",
          "text": [
            "[[19 22]\n",
            " [43 50]]\n",
            "[[19 22]\n",
            " [43 50]]\n",
            "[[-2.   1. ]\n",
            " [ 1.5 -0.5]]\n"
          ]
        }
      ]
    },
    {
      "cell_type": "code",
      "source": [
        "#indexing slicing\n",
        "arr = np.array([[10, 20, 30], [40, 50, 60]])\n",
        "\n",
        "print(arr[1, 2])  # Access row 1, column 2 (60)\n",
        "print(arr[:, 1])  # Get second column\n",
        "print(arr[0, :])  # Get first row\n",
        "print(arr[0:2, 1:3])  # Get sub-array\n"
      ],
      "metadata": {
        "colab": {
          "base_uri": "https://localhost:8080/"
        },
        "id": "D-yPHKIVl-yw",
        "outputId": "1f6fa45b-03bd-470e-9d5a-486b083dcb94"
      },
      "execution_count": 22,
      "outputs": [
        {
          "output_type": "stream",
          "name": "stdout",
          "text": [
            "60\n",
            "[20 50]\n",
            "[10 20 30]\n",
            "[[20 30]\n",
            " [50 60]]\n"
          ]
        }
      ]
    },
    {
      "cell_type": "code",
      "source": [
        "np.mean(arr)   # Mean\n",
        "np.median(arr) # Median\n",
        "np.std(arr)    # Standard deviation\n",
        "np.sum(arr)    # Sum of all elements\n",
        "np.max(arr)    # Maximum value\n",
        "np.min(arr)    # Minimum value\n"
      ],
      "metadata": {
        "colab": {
          "base_uri": "https://localhost:8080/"
        },
        "id": "NHii82VbmHpH",
        "outputId": "c6151d54-8979-4ade-9802-ac7f6a8e6066"
      },
      "execution_count": 23,
      "outputs": [
        {
          "output_type": "execute_result",
          "data": {
            "text/plain": [
              "10"
            ]
          },
          "metadata": {},
          "execution_count": 23
        }
      ]
    },
    {
      "cell_type": "code",
      "source": [
        "dat=[1,2,1,2,1,1,1,12,2,3]\n",
        "print(np.bincount(dat).argmax())"
      ],
      "metadata": {
        "colab": {
          "base_uri": "https://localhost:8080/"
        },
        "id": "9eOBBFFPmj6O",
        "outputId": "0535717d-ee8e-4ad6-dc9f-10dc8a27e34b"
      },
      "execution_count": 25,
      "outputs": [
        {
          "output_type": "stream",
          "name": "stdout",
          "text": [
            "1\n"
          ]
        }
      ]
    },
    {
      "cell_type": "code",
      "source": [],
      "metadata": {
        "id": "HUh6S39hmwin"
      },
      "execution_count": null,
      "outputs": []
    },
    {
      "cell_type": "code",
      "source": [
        "#scipy\n",
        "\"\"\"\n",
        "scipy.linalg\tLinear algebra (matrix operations, determinants, inverse)\n",
        "scipy.optimize\tOptimization (minimization, root finding, curve fitting)\n",
        "scipy.stats\tStatistical functions (distributions, hypothesis testing)\n",
        "scipy.signal\tSignal processing (filtering, FFT, wavelets)\n",
        "scipy.spatial\tSpatial data structures (KD trees, distance metrics)\n",
        "scipy.integrate\tIntegration (solving ODEs, numerical integration)\n",
        "scipy.interpolate\tInterpolation (spline fitting, polynomial interpolation)\n",
        "\"\"\""
      ],
      "metadata": {
        "id": "zxcuuM2_m2L8"
      },
      "execution_count": null,
      "outputs": []
    },
    {
      "cell_type": "code",
      "source": [
        "#mode\n",
        "from scipy import stats\n",
        "print(stats.mode(data))"
      ],
      "metadata": {
        "colab": {
          "base_uri": "https://localhost:8080/"
        },
        "id": "cAA6M7Gppas1",
        "outputId": "0d691b19-7a45-4804-bd46-8e9a9b83edae"
      },
      "execution_count": 37,
      "outputs": [
        {
          "output_type": "stream",
          "name": "stdout",
          "text": [
            "ModeResult(mode=10, count=1)\n"
          ]
        }
      ]
    },
    {
      "cell_type": "code",
      "source": [
        "from scipy.linalg import inv, det\n",
        "\n",
        "A = np.array([[1, 2], [3, 4]])\n",
        "print(inv(A))  # Inverse of A\n",
        "print(det(A))  # Determinant of A\n"
      ],
      "metadata": {
        "colab": {
          "base_uri": "https://localhost:8080/"
        },
        "id": "ExN90dc0nMp5",
        "outputId": "3f8b3670-e1b4-4b7d-e07e-0d8b13697ab6"
      },
      "execution_count": 26,
      "outputs": [
        {
          "output_type": "stream",
          "name": "stdout",
          "text": [
            "[[-2.   1. ]\n",
            " [ 1.5 -0.5]]\n",
            "-2.0\n"
          ]
        }
      ]
    },
    {
      "cell_type": "code",
      "source": [
        "#optimisation\n",
        "from scipy.optimize import minimize\n",
        "\n",
        "def func(x):\n",
        "    return x**2 + 3*x + 2  # Quadratic function\n",
        "\n",
        "result = minimize(func, x0=0)  # Minimize function starting at x0=0\n",
        "print(result.x)  # Optimal x value\n"
      ],
      "metadata": {
        "colab": {
          "base_uri": "https://localhost:8080/"
        },
        "id": "rSW1sCP2nN8N",
        "outputId": "f34ff57f-d158-48b6-8f9b-e93cbdf256d2"
      },
      "execution_count": 33,
      "outputs": [
        {
          "output_type": "stream",
          "name": "stdout",
          "text": [
            "[-1.50000001]\n"
          ]
        }
      ]
    },
    {
      "cell_type": "code",
      "source": [
        "#Solving Equations (Root Finding)\n",
        "from scipy.optimize import fsolve\n",
        "\n",
        "def equation(x):\n",
        "    return x**2 - 4  # Solving x² - 4 = 0\n",
        "\n",
        "root = fsolve(equation, x0=2)  # Initial guess x0=2\n",
        "print(root)  # Output: [2, -2]\n"
      ],
      "metadata": {
        "colab": {
          "base_uri": "https://localhost:8080/"
        },
        "id": "uOR8tzYjnm44",
        "outputId": "6b128259-439c-4bfe-de3e-ac3b6442a2c8"
      },
      "execution_count": 34,
      "outputs": [
        {
          "output_type": "stream",
          "name": "stdout",
          "text": [
            "[2.]\n"
          ]
        }
      ]
    },
    {
      "cell_type": "code",
      "source": [
        "#special functions\n",
        "#Gamma Function:\n",
        "\"\"\"Probability Theory: The gamma function is used in probability\n",
        " theory to model the distribution of random variables, such\n",
        " as the exponential distribution and the gamma distribution.\"\"\"\n",
        "from scipy import special\n",
        "import numpy as np\n",
        "\n",
        "# Calculate the gamma function\n",
        "x = np.array([1, 2, 3, 4, 5])\n",
        "gamma_x = special.gamma(x)\n",
        "print(gamma_x)\n",
        "\n"
      ],
      "metadata": {
        "colab": {
          "base_uri": "https://localhost:8080/"
        },
        "id": "Kg3zIhcOn7D_",
        "outputId": "371a97db-b586-4fae-8c5c-0aff881bc14c"
      },
      "execution_count": 35,
      "outputs": [
        {
          "output_type": "stream",
          "name": "stdout",
          "text": [
            "[ 1.  1.  2.  6. 24.]\n"
          ]
        }
      ]
    },
    {
      "cell_type": "code",
      "source": [
        "## Calculate the error function\n",
        " \"\"\"Probability Theory: The error function is used in probability\n",
        " theory to model the distribution of random variables,\n",
        "  such as the normal distribution and the logistic distribution.\"\"\"\n",
        "\n",
        "x = np.array([1, 2, 3, 4, 5])\n",
        "erf_x = special.erf(x)\n",
        "print(erf_x)\n"
      ],
      "metadata": {
        "id": "Kor8GqW2ojOO"
      },
      "execution_count": null,
      "outputs": []
    }
  ]
}