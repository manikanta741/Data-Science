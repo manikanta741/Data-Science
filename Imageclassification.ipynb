{
  "nbformat": 4,
  "nbformat_minor": 0,
  "metadata": {
    "colab": {
      "provenance": [],
      "authorship_tag": "ABX9TyMnQSTMEU2spiiB/NalFEEl",
      "include_colab_link": true
    },
    "kernelspec": {
      "name": "python3",
      "display_name": "Python 3"
    },
    "language_info": {
      "name": "python"
    }
  },
  "cells": [
    {
      "cell_type": "markdown",
      "metadata": {
        "id": "view-in-github",
        "colab_type": "text"
      },
      "source": [
        "<a href=\"https://colab.research.google.com/github/manikanta741/Data-Science/blob/main/Imageclassification.ipynb\" target=\"_parent\"><img src=\"https://colab.research.google.com/assets/colab-badge.svg\" alt=\"Open In Colab\"/></a>"
      ]
    },
    {
      "cell_type": "code",
      "execution_count": null,
      "metadata": {
        "colab": {
          "base_uri": "https://localhost:8080/"
        },
        "id": "jz6aaMgRMdJv",
        "outputId": "853ce51a-2cfb-41dd-f89d-a9245da5ea46"
      },
      "outputs": [
        {
          "output_type": "stream",
          "name": "stdout",
          "text": [
            "[[0, 1, 0], [1, 0, 0], [0, 0, 1], [0, 1, 0], [0, 0, 1], [1, 0, 0], [0, 1, 0]]\n"
          ]
        }
      ],
      "source": [
        "from tensorflow.keras.preprocessing.text import one_hot\n",
        "words = ['apple', 'banana', 'cherry', 'apple', 'cherry', 'banana', 'apple']\n",
        "vocab = set(words)\n",
        "word_to_int = {word: i for i, word in enumerate(vocab)}\n",
        "int_words = [word_to_int[word] for word in words]\n",
        "one_hot_words = []\n",
        "for int_word in int_words:\n",
        "    one_hot_word = [0] * len(vocab)\n",
        "    one_hot_word[int_word] = 1\n",
        "    one_hot_words.append(one_hot_word)\n",
        "\n",
        "print(one_hot_words)"
      ]
    },
    {
      "cell_type": "code",
      "source": [
        "import string\n",
        "input_string = 'hello world'\n",
        "vocab = set(input_string)\n",
        "char_to_int = {char: i for i, char in enumerate(vocab)}\n",
        "int_chars = [char_to_int[char] for char in input_string]\n",
        "one_hot_chars = []\n",
        "for int_char in int_chars:\n",
        " one_hot_char = [0] * len(vocab)\n",
        " one_hot_char[int_char] = 1\n",
        " one_hot_chars.append(one_hot_char)\n",
        "print(one_hot_chars)"
      ],
      "metadata": {
        "colab": {
          "base_uri": "https://localhost:8080/"
        },
        "id": "3srXBZfQRjEk",
        "outputId": "6b930f71-1214-4dc0-aa27-7396b1d435d2"
      },
      "execution_count": null,
      "outputs": [
        {
          "output_type": "stream",
          "name": "stdout",
          "text": [
            "[[0, 0, 0, 1, 0, 0, 0, 0], [0, 0, 1, 0, 0, 0, 0, 0], [0, 0, 0, 0, 0, 0, 0, 1], [0, 0, 0, 0, 0, 0, 0, 1], [0, 1, 0, 0, 0, 0, 0, 0], [1, 0, 0, 0, 0, 0, 0, 0], [0, 0, 0, 0, 1, 0, 0, 0], [0, 1, 0, 0, 0, 0, 0, 0], [0, 0, 0, 0, 0, 0, 1, 0], [0, 0, 0, 0, 0, 0, 0, 1], [0, 0, 0, 0, 0, 1, 0, 0]]\n"
          ]
        }
      ]
    }
  ]
}