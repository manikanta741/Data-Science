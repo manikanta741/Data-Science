{
  "nbformat": 4,
  "nbformat_minor": 0,
  "metadata": {
    "colab": {
      "provenance": [],
      "authorship_tag": "ABX9TyPcMp5iZocGyFy2f78Q8Ku6",
      "include_colab_link": true
    },
    "kernelspec": {
      "name": "python3",
      "display_name": "Python 3"
    },
    "language_info": {
      "name": "python"
    }
  },
  "cells": [
    {
      "cell_type": "markdown",
      "metadata": {
        "id": "view-in-github",
        "colab_type": "text"
      },
      "source": [
        "<a href=\"https://colab.research.google.com/github/manikanta741/Data-Science/blob/main/Boston%20Housing.ipynb\" target=\"_parent\"><img src=\"https://colab.research.google.com/assets/colab-badge.svg\" alt=\"Open In Colab\"/></a>"
      ]
    },
    {
      "cell_type": "code",
      "source": [
        "import numpy as np\n",
        "import pandas as pd\n",
        "import matplotlib.pyplot as plt\n",
        "import seaborn as sns\n",
        "from sklearn.linear_model import LinearRegression\n",
        "from sklearn.metrics import mean_squared_error, r2_score\n",
        "from sklearn.model_selection import train_test_split\n",
        "from sklearn.preprocessing import StandardScaler\n",
        "\n",
        "\n",
        "df = pd.read_csv('/content/archive (20).zip')\n",
        "print(df.head())\n",
        "\n",
        "# Checking for missing and duplicate values\n",
        "print( df.isnull().sum())\n",
        "print(df.duplicated().sum())\n",
        "\n",
        "\n",
        "x = df.drop(columns=[\"MEDV\"])\n",
        "y = df[\"MEDV\"]\n",
        "\n",
        "# Split data into training and test sets\n",
        "x_train, x_test, y_train, y_test = train_test_split(x, y, test_size=0.2, random_state=42)\n",
        "print(\"Training data shape:\", x_train.shape, y_train.shape)\n",
        "print(\"Testing data shape:\", x_test.shape, y_test.shape)\n",
        "\n",
        "# Standardize the features\n",
        "scaler = StandardScaler()\n",
        "X_train_scaled = scaler.fit_transform(x_train)\n",
        "X_test_scaled = scaler.transform(x_test)\n",
        "\n",
        "# Linear Regression model\n",
        "model = LinearRegression()\n",
        "model.fit(X_train_scaled, y_train)\n",
        "\n",
        "# Predictions on test data\n",
        "y_pred = model.predict(X_test_scaled)\n",
        "\n",
        "# Evaluate model performance\n",
        "r2 = r2_score(y_test, y_pred)\n",
        "mse = mean_squared_error(y_test, y_pred)\n",
        "print(\"R² Score:\", r2)\n",
        "print(\"Mean Squared Error:\", mse)\n",
        "#prediction\n",
        "new_data = np.array([[6.421, 9.14, 17.8]])  # Example input\n",
        "\n",
        "# Standardize again\n",
        "new_data_scaled = scaler.transform(new_data)\n",
        "\n",
        "# Predict and display\n",
        "predicted_price = model.predict(new_data_scaled)[0]\n",
        "print(f\"Predicted House Price: ${predicted_price:,.2f}\")\n"
      ],
      "metadata": {
        "colab": {
          "base_uri": "https://localhost:8080/"
        },
        "id": "ikC0ygVqlG7q",
        "outputId": "f2861daa-ef0d-40e7-bc55-de39bd5a2066"
      },
      "execution_count": 60,
      "outputs": [
        {
          "output_type": "stream",
          "name": "stdout",
          "text": [
            "      RM  LSTAT  PTRATIO      MEDV\n",
            "0  6.575   4.98     15.3  504000.0\n",
            "1  6.421   9.14     17.8  453600.0\n",
            "2  7.185   4.03     17.8  728700.0\n",
            "3  6.998   2.94     18.7  701400.0\n",
            "4  7.147   5.33     18.7  760200.0\n",
            "RM         0\n",
            "LSTAT      0\n",
            "PTRATIO    0\n",
            "MEDV       0\n",
            "dtype: int64\n",
            "0\n",
            "Training data shape: (391, 3) (391,)\n",
            "Testing data shape: (98, 3) (98,)\n",
            "R² Score: 0.6910934003098512\n",
            "Mean Squared Error: 6789025559.265888\n",
            "Predicted House Price: $527,676.40\n"
          ]
        },
        {
          "output_type": "stream",
          "name": "stderr",
          "text": [
            "/usr/local/lib/python3.11/dist-packages/sklearn/utils/validation.py:2739: UserWarning: X does not have valid feature names, but StandardScaler was fitted with feature names\n",
            "  warnings.warn(\n"
          ]
        }
      ]
    }
  ]
}